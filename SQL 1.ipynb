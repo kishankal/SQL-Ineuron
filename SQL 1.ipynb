{
 "cells": [
  {
   "cell_type": "markdown",
   "id": "ce16138d",
   "metadata": {},
   "source": [
    "## Q-1. Write an SQL query to fetch “FIRST_NAME” from Worker table using the alias name as<WORKER_NAME>."
   ]
  },
  {
   "cell_type": "code",
   "execution_count": null,
   "id": "61ed4e26",
   "metadata": {},
   "outputs": [],
   "source": [
    "SELECT FIRST_NAME as WORKER_NAME FROM Worker;"
   ]
  },
  {
   "cell_type": "markdown",
   "id": "ba530334",
   "metadata": {},
   "source": [
    "## Q-2. Write an SQL query to fetch unique values of DEPARTMENT from Worker table."
   ]
  },
  {
   "cell_type": "code",
   "execution_count": null,
   "id": "19a590c3",
   "metadata": {},
   "outputs": [],
   "source": [
    "SELECT DISTINCT DEPARTMENT FROM Worker;"
   ]
  },
  {
   "cell_type": "markdown",
   "id": "0e8a73f6",
   "metadata": {},
   "source": [
    "## Q-3. Write an SQL query to show the last 5 record from a table."
   ]
  },
  {
   "cell_type": "code",
   "execution_count": null,
   "id": "9b5a7023",
   "metadata": {},
   "outputs": [],
   "source": [
    "SELECT * FROM Employee ORDER BY ID DESC LIMIT 5;"
   ]
  }
 ],
 "metadata": {
  "kernelspec": {
   "display_name": "Python 3 (ipykernel)",
   "language": "python",
   "name": "python3"
  },
  "language_info": {
   "codemirror_mode": {
    "name": "ipython",
    "version": 3
   },
   "file_extension": ".py",
   "mimetype": "text/x-python",
   "name": "python",
   "nbconvert_exporter": "python",
   "pygments_lexer": "ipython3",
   "version": "3.9.7"
  }
 },
 "nbformat": 4,
 "nbformat_minor": 5
}
