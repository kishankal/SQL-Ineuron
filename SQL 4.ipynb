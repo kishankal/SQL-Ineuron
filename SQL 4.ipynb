{
 "cells": [
  {
   "cell_type": "markdown",
   "id": "0f49e618",
   "metadata": {},
   "source": [
    "## Q-1. Write an SQL query to print the FIRST_NAME from Worker table after replacing ‘a’ with ‘A’."
   ]
  },
  {
   "cell_type": "code",
   "execution_count": null,
   "id": "f4f0dd62",
   "metadata": {},
   "outputs": [],
   "source": [
    "## REPLACE(column name, old, new)\n",
    "\n",
    "SELECT REPLACE(FIRST_NAME,'a','A') FROM Worker;"
   ]
  },
  {
   "cell_type": "markdown",
   "id": "89334f84",
   "metadata": {},
   "source": [
    "## Q-2. Write an SQL query to print all Worker details from the Worker table order by FIRST_NAME Ascending and DEPARTMENT Descending."
   ]
  },
  {
   "cell_type": "code",
   "execution_count": null,
   "id": "15cbb7f8",
   "metadata": {},
   "outputs": [],
   "source": [
    "SELECT * FROM Worker ORDER BY FIRST_NAME ASC, DEPARTMENT DESC;"
   ]
  },
  {
   "cell_type": "markdown",
   "id": "0eaeabd3",
   "metadata": {},
   "source": [
    "## Q-3. Write an SQL query to fetch the names of workers who earn the highest salary."
   ]
  },
  {
   "cell_type": "code",
   "execution_count": null,
   "id": "302e996b",
   "metadata": {},
   "outputs": [],
   "source": [
    "SELECT FIRST_NAME,LAST_NAME FROM Worker WHERE salary = (SELECT MAX(salary) FROM Worker);"
   ]
  }
 ],
 "metadata": {
  "kernelspec": {
   "display_name": "Python 3 (ipykernel)",
   "language": "python",
   "name": "python3"
  },
  "language_info": {
   "codemirror_mode": {
    "name": "ipython",
    "version": 3
   },
   "file_extension": ".py",
   "mimetype": "text/x-python",
   "name": "python",
   "nbconvert_exporter": "python",
   "pygments_lexer": "ipython3",
   "version": "3.9.7"
  }
 },
 "nbformat": 4,
 "nbformat_minor": 5
}
