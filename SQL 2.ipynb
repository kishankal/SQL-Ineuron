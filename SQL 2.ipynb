{
 "cells": [
  {
   "cell_type": "markdown",
   "id": "9c5eeb3b",
   "metadata": {},
   "source": [
    "## Q-1. Write an SQL query to print the first three characters of FIRST_NAME from Worker table."
   ]
  },
  {
   "cell_type": "code",
   "execution_count": null,
   "id": "7e64bb6d",
   "metadata": {},
   "outputs": [],
   "source": [
    "# SUBSTRIMG(COLUMN NAME , STARTING POINT, LENGTH)\n",
    "\n",
    "SELECT SUBSTRING(FIRST_NAME,1,3) FROM Worker;"
   ]
  },
  {
   "cell_type": "markdown",
   "id": "22630df6",
   "metadata": {},
   "source": [
    "## Q-2. Write an SQL query to find the position of the alphabet (‘a’) in the first name column ‘Amitabh’ from Worker table."
   ]
  },
  {
   "cell_type": "code",
   "execution_count": null,
   "id": "a639d8a8",
   "metadata": {},
   "outputs": [],
   "source": [
    "# Method 1\n",
    "SELECT LOCATE('a',first name) FROM Worker WHERE first name = 'Amitabh';\n",
    "\n",
    "#Method 2 \n",
    "SELECT POSITION('a' in first name) FROM Worker WHERE first name = 'Amitabh';"
   ]
  },
  {
   "cell_type": "markdown",
   "id": "a25ea7f1",
   "metadata": {},
   "source": [
    "## Q-3. Write an SQL query to print the name of employees having the highest salary in each department."
   ]
  },
  {
   "cell_type": "code",
   "execution_count": null,
   "id": "7dadfaee",
   "metadata": {},
   "outputs": [],
   "source": [
    "SELECT first name, last name, department, MAX(salary) FROM Worker GROUP BY department"
   ]
  }
 ],
 "metadata": {
  "kernelspec": {
   "display_name": "Python 3 (ipykernel)",
   "language": "python",
   "name": "python3"
  },
  "language_info": {
   "codemirror_mode": {
    "name": "ipython",
    "version": 3
   },
   "file_extension": ".py",
   "mimetype": "text/x-python",
   "name": "python",
   "nbconvert_exporter": "python",
   "pygments_lexer": "ipython3",
   "version": "3.9.7"
  }
 },
 "nbformat": 4,
 "nbformat_minor": 5
}
