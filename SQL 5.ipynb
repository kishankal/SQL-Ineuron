{
 "cells": [
  {
   "cell_type": "markdown",
   "id": "0fdaefb9",
   "metadata": {},
   "source": [
    "## Q-1. Write an SQL query to print details of workers excluding first names, “Vipul” and “Satish” from Worker table."
   ]
  },
  {
   "cell_type": "code",
   "execution_count": null,
   "id": "3bb20097",
   "metadata": {},
   "outputs": [],
   "source": [
    "SELECT * FROM Worker WHERE FRIST_NAME NOT IN ('VIPU','Satish');"
   ]
  },
  {
   "cell_type": "markdown",
   "id": "0200d89f",
   "metadata": {},
   "source": [
    "## Q-2. Write an SQL query to print details of the Workers whose FIRST_NAME ends with ‘h’ and contains six alphabets."
   ]
  },
  {
   "cell_type": "code",
   "execution_count": null,
   "id": "29235d83",
   "metadata": {},
   "outputs": [],
   "source": [
    "SELECT * FROM Worker WHERE FIRST_NAME LIKE '______h';"
   ]
  },
  {
   "cell_type": "markdown",
   "id": "dd2a1450",
   "metadata": {},
   "source": [
    "## Q-3. Write a query to validate Email of Employee."
   ]
  },
  {
   "cell_type": "code",
   "execution_count": null,
   "id": "859008e2",
   "metadata": {},
   "outputs": [],
   "source": [
    "SELECT * FROM Worker WHERE Email <> '' and Email NOT IN '_%@__.__%';"
   ]
  }
 ],
 "metadata": {
  "kernelspec": {
   "display_name": "Python 3 (ipykernel)",
   "language": "python",
   "name": "python3"
  },
  "language_info": {
   "codemirror_mode": {
    "name": "ipython",
    "version": 3
   },
   "file_extension": ".py",
   "mimetype": "text/x-python",
   "name": "python",
   "nbconvert_exporter": "python",
   "pygments_lexer": "ipython3",
   "version": "3.9.7"
  }
 },
 "nbformat": 4,
 "nbformat_minor": 5
}
