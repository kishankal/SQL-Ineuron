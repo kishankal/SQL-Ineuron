{
 "cells": [
  {
   "cell_type": "markdown",
   "id": "f86e0587",
   "metadata": {},
   "source": [
    "## Q-19. Write an SQL query to determine the 5th highest salary without using TOP or limit method."
   ]
  },
  {
   "cell_type": "code",
   "execution_count": null,
   "id": "07359708",
   "metadata": {},
   "outputs": [],
   "source": [
    "SELECT salary FROM Worker e1 WHERE 4 = (SELECT COUNT(DISTINCT salary) FROM Worker e2 WHERE e2.salary > e1.salary); "
   ]
  },
  {
   "cell_type": "markdown",
   "id": "dffcd585",
   "metadata": {},
   "source": [
    "## Q-20. Write an SQL query to fetch the list of employees with the same salary."
   ]
  },
  {
   "cell_type": "code",
   "execution_count": null,
   "id": "a7c0b3d4",
   "metadata": {},
   "outputs": [],
   "source": [
    "## METHOD 1\n",
    "\n",
    "SELECT a.* FROM Worker a INNER JOIN Worker b ON b.salary = a.salary AND a.FIRST_NAME <> b.FIRST_NAME;"
   ]
  },
  {
   "cell_type": "code",
   "execution_count": null,
   "id": "efb6fefb",
   "metadata": {},
   "outputs": [],
   "source": [
    "## METHOD 2\n",
    "\n",
    "SELECT * FROM Worker WHERE salary IN (SELECT salary FROM Worker GROUP BY salary having COUNT(*) > 1);"
   ]
  }
 ],
 "metadata": {
  "kernelspec": {
   "display_name": "Python 3 (ipykernel)",
   "language": "python",
   "name": "python3"
  },
  "language_info": {
   "codemirror_mode": {
    "name": "ipython",
    "version": 3
   },
   "file_extension": ".py",
   "mimetype": "text/x-python",
   "name": "python",
   "nbconvert_exporter": "python",
   "pygments_lexer": "ipython3",
   "version": "3.9.7"
  }
 },
 "nbformat": 4,
 "nbformat_minor": 5
}
