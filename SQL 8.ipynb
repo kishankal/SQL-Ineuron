{
 "cells": [
  {
   "cell_type": "markdown",
   "id": "aa84f78e",
   "metadata": {},
   "source": [
    "## Q-15. Write an SQL query to fetch intersecting records of two tables."
   ]
  },
  {
   "cell_type": "code",
   "execution_count": null,
   "id": "8ad77e8f",
   "metadata": {},
   "outputs": [],
   "source": [
    "SELECT <COLUMN_NAME> FROM TABLE1 INTERSECT SELECT <COLUMN_NAME> FROM TABLE2; "
   ]
  },
  {
   "cell_type": "markdown",
   "id": "9638c8bc",
   "metadata": {},
   "source": [
    "## Q-16. Write an SQL query to show records from one table that another table does not have."
   ]
  },
  {
   "cell_type": "code",
   "execution_count": null,
   "id": "3194baaf",
   "metadata": {},
   "outputs": [],
   "source": [
    "SELECT * FROM TABLE1 EXCEPT SELECT * FROM TABLE2;"
   ]
  }
 ],
 "metadata": {
  "kernelspec": {
   "display_name": "Python 3 (ipykernel)",
   "language": "python",
   "name": "python3"
  },
  "language_info": {
   "codemirror_mode": {
    "name": "ipython",
    "version": 3
   },
   "file_extension": ".py",
   "mimetype": "text/x-python",
   "name": "python",
   "nbconvert_exporter": "python",
   "pygments_lexer": "ipython3",
   "version": "3.9.7"
  }
 },
 "nbformat": 4,
 "nbformat_minor": 5
}
