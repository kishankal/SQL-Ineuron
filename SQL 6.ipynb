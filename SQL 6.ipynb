{
 "cells": [
  {
   "cell_type": "markdown",
   "id": "4fe1fea3",
   "metadata": {},
   "source": [
    "## Q-1. Write an SQL query to print details of the Workers who have joined in Feb’2014."
   ]
  },
  {
   "cell_type": "code",
   "execution_count": null,
   "id": "075e5bfc",
   "metadata": {},
   "outputs": [],
   "source": [
    "## METHOD 1\n",
    "SELECT * FROM Worker WHERE JOINING_DATE LIKE '2014-02-%' or JOINING_DATE LIKE '%-02-2014';\n",
    "\n",
    "## METHOD 2 \n",
    "SELECT * FROM Worker WHERE YEAR(JOINING_DATE) = 2014 AND MONTH(JOINING_DATE) = 02;\n",
    "\n",
    "## METHOD 3\n",
    "SELECT * FROM Worker WHERE JOINING_DATE LIKE \"%2014-02%\";"
   ]
  },
  {
   "cell_type": "markdown",
   "id": "b0ec8d1a",
   "metadata": {},
   "source": [
    "## Q-2. Write an SQL query to fetch duplicate records having matching data in some fields of a table."
   ]
  },
  {
   "cell_type": "code",
   "execution_count": null,
   "id": "afb1747b",
   "metadata": {},
   "outputs": [],
   "source": [
    "SELECT column_name, COUNT(column_name) FROM Worker GROUP BY FEILD HAVING COUNT(column_name) > 1;"
   ]
  },
  {
   "cell_type": "markdown",
   "id": "1825f74f",
   "metadata": {},
   "source": [
    "## Q-3. How to remove duplicate rows from Employees table."
   ]
  },
  {
   "cell_type": "code",
   "execution_count": null,
   "id": "a4c649df",
   "metadata": {},
   "outputs": [],
   "source": [
    "CREATE TABLE Employee (\n",
    "    ID INT PRIMARY KEY AUTO_INCREMENT NOT NULL,\n",
    "    FIRST_NAME VARCHAR(50),\n",
    "    LAST_NAME VARCHAR(50),\n",
    "    COUNTRY VARCHAR(50)\n",
    ");\n",
    "INSERT INTO Employee VALUES \n",
    "(1,'KISHAN','KALARIYA','IND'),\n",
    "(2,'KISHAN','KALARIYA','IND'),\n",
    "(3,'KISHAN','KALARIYA','IND'),\n",
    "(4,'BHAVIK','KALARIYA','ENG'),\n",
    "(5,'BHAVIK','KALARIYA','ENG'),\n",
    "(6,'BHAVIK','KALARIYA','ENG');\n",
    "\n",
    "DELETE a.* from employee a INNER JOIN employee b WHERE a.id > b.id AND a.FIRST_NAME = b.FIRST_NAME AND a.LAST_NAME = b.LAST_NAME AND a.COUNTRY = b.COUNTRY;"
   ]
  }
 ],
 "metadata": {
  "kernelspec": {
   "display_name": "Python 3 (ipykernel)",
   "language": "python",
   "name": "python3"
  },
  "language_info": {
   "codemirror_mode": {
    "name": "ipython",
    "version": 3
   },
   "file_extension": ".py",
   "mimetype": "text/x-python",
   "name": "python",
   "nbconvert_exporter": "python",
   "pygments_lexer": "ipython3",
   "version": "3.9.7"
  }
 },
 "nbformat": 4,
 "nbformat_minor": 5
}
