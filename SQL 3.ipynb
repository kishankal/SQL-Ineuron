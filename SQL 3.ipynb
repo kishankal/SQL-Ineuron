{
 "cells": [
  {
   "cell_type": "markdown",
   "id": "761f3cdb",
   "metadata": {},
   "source": [
    "## Q-1. Write an SQL query to print the FIRST_NAME from Worker table after removing white spaces from the right side."
   ]
  },
  {
   "cell_type": "code",
   "execution_count": null,
   "id": "93bfb2ec",
   "metadata": {},
   "outputs": [],
   "source": [
    "SELECT RTRIM(FRIST_NAME) FROM Worker;"
   ]
  },
  {
   "cell_type": "markdown",
   "id": "27ef65bb",
   "metadata": {},
   "source": [
    "## Q-2. Write an SQL query that fetches the unique values of DEPARTMENT from Worker table and prints its length."
   ]
  },
  {
   "cell_type": "code",
   "execution_count": null,
   "id": "7939e3d6",
   "metadata": {},
   "outputs": [],
   "source": [
    "SELECT DISTINCT(DEPARTMENT),LEN(DEPARTMENT) FROM Worker;"
   ]
  },
  {
   "cell_type": "markdown",
   "id": "de50273a",
   "metadata": {},
   "source": [
    "## Q-3. Write an SQL query to fetch nth max salaries from a table."
   ]
  },
  {
   "cell_type": "code",
   "execution_count": null,
   "id": "4642070a",
   "metadata": {},
   "outputs": [],
   "source": [
    "SELECT salary FROM Worker e1 WHERE n-1 = (SELECT COUNT(DISTINCT SALARY) FROM Worker e2 WHERE e2.salary > e1.salary); "
   ]
  }
 ],
 "metadata": {
  "kernelspec": {
   "display_name": "Python 3 (ipykernel)",
   "language": "python",
   "name": "python3"
  },
  "language_info": {
   "codemirror_mode": {
    "name": "ipython",
    "version": 3
   },
   "file_extension": ".py",
   "mimetype": "text/x-python",
   "name": "python",
   "nbconvert_exporter": "python",
   "pygments_lexer": "ipython3",
   "version": "3.9.7"
  }
 },
 "nbformat": 4,
 "nbformat_minor": 5
}
