{
 "cells": [
  {
   "cell_type": "markdown",
   "id": "5fd73d0c",
   "metadata": {},
   "source": [
    "## Q-17. Write an SQL query to show the top n (say 10) records of a table."
   ]
  },
  {
   "cell_type": "code",
   "execution_count": null,
   "id": "6b17864e",
   "metadata": {},
   "outputs": [],
   "source": [
    "SELECT * FROM Worker LIMIT 10;"
   ]
  },
  {
   "cell_type": "markdown",
   "id": "48caf16c",
   "metadata": {},
   "source": [
    "## Q-18. Write an SQL query to determine the nth (say n=5) highest salary from a table."
   ]
  },
  {
   "cell_type": "code",
   "execution_count": null,
   "id": "100330cc",
   "metadata": {},
   "outputs": [],
   "source": [
    "SELECT salary FROM Worker e1 WHERE 4 = (SELECT COUNT(DISTINCT SALARY) FROM Worker e2 WHERE e2.salary > e1.salary);"
   ]
  }
 ],
 "metadata": {
  "kernelspec": {
   "display_name": "Python 3 (ipykernel)",
   "language": "python",
   "name": "python3"
  },
  "language_info": {
   "codemirror_mode": {
    "name": "ipython",
    "version": 3
   },
   "file_extension": ".py",
   "mimetype": "text/x-python",
   "name": "python",
   "nbconvert_exporter": "python",
   "pygments_lexer": "ipython3",
   "version": "3.9.7"
  }
 },
 "nbformat": 4,
 "nbformat_minor": 5
}
