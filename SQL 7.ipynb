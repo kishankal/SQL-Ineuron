{
 "cells": [
  {
   "cell_type": "markdown",
   "id": "893b9629",
   "metadata": {},
   "source": [
    "## Q-13. Write an SQL query to show only odd rows from a table."
   ]
  },
  {
   "cell_type": "code",
   "execution_count": null,
   "id": "dec12364",
   "metadata": {},
   "outputs": [],
   "source": [
    "SELECT w.* FROM (SELECT *, ROW_NUMBER() OVER(ORDER BY FIRST_NAME) row_number FROM Worker w) WHERE w.ROW_NUMBER % 2 = 1;"
   ]
  },
  {
   "cell_type": "markdown",
   "id": "4cc4b1aa",
   "metadata": {},
   "source": [
    "## Q-14. Write an SQL query to clone a new table from another table."
   ]
  },
  {
   "cell_type": "code",
   "execution_count": null,
   "id": "8314cd50",
   "metadata": {},
   "outputs": [],
   "source": [
    "# Creating a New table\n",
    "CREATE TABLE CloneWorker(\n",
    "    Worker_id INT NOT NULL AUTO INCREMENT PRIMARY KEY,\n",
    "    FIRST_NAME VARCHAR(20),\n",
    "    LAST_NAME VARCHAR(20),\n",
    "    SALARY INT,\n",
    "    DEPARTMENT VARCHAR(20),\n",
    "    JOINING DATE DATETIME\n",
    ");\n",
    "\n",
    "# Create CloneWorker content of a table from another table\n",
    "INSERT INTO CloneWorker SELECT * FROM Worker;"
   ]
  }
 ],
 "metadata": {
  "kernelspec": {
   "display_name": "Python 3 (ipykernel)",
   "language": "python",
   "name": "python3"
  },
  "language_info": {
   "codemirror_mode": {
    "name": "ipython",
    "version": 3
   },
   "file_extension": ".py",
   "mimetype": "text/x-python",
   "name": "python",
   "nbconvert_exporter": "python",
   "pygments_lexer": "ipython3",
   "version": "3.9.7"
  }
 },
 "nbformat": 4,
 "nbformat_minor": 5
}
